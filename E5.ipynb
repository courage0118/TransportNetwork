{
 "cells": [
  {
   "cell_type": "code",
   "execution_count": null,
   "metadata": {},
   "source": [
    "import csv\n",
    "\n",
    "class Node:  # 节点类，包含每个节点的坐标信息\n",
    "    def __init__(self, node_id=None, origin=-1):\n",
    "        self.ID = node_id\n",
    "        self.origin = origin\n",
    "        self.innode = []  # 进入节点路段集合\n",
    "        self.outnode = []  # 离开节点路段集合\n",
    "\n",
    "\n",
    "class Link:  # 路段类，包含路段的起讫点、自由流行驶时间、容量、BRP路阻函数的参数\n",
    "    def __init__(self, link_id=None, o_link=None, d_link=None, fft=None,\n",
    "                 travel_time=None, capacity=None, b=0.15, power=4):\n",
    "        self.ID = link_id\n",
    "        self.O_link = o_link\n",
    "        self.D_link = d_link\n",
    "        self.FFT = fft\n",
    "        self.Traveltime = travel_time\n",
    "        self.Capacity = capacity\n",
    "        self.B = b  # SiouxFalls网络中路网B与Power系数值均相等，方便期间，统一设置一个初始值\n",
    "        self.Power = power\n",
    "\n",
    "\n",
    "\n"
   ],
   "outputs": []
  }
 ],
 "metadata": {
  "language_info": {
   "name": "python"
  }
 },
 "nbformat": 4,
 "nbformat_minor": 2
}
