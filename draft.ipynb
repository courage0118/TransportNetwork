{
 "cells": [
  {
   "cell_type": "code",
   "execution_count": null,
   "metadata": {},
   "source": [
    "    # 在类中实现 get_node_by_id (根据节点的ID获取相应节点对象的方法)\n",
    "    def get_node_by_id(self, node_id):\n",
    "        for node in self.Nodes:\n",
    "            if node.ID == node_id:\n",
    "                return node\n",
    "        return None\n",
    "    "
   ],
   "outputs": []
  }
 ],
 "metadata": {
  "kernelspec": {
   "display_name": "base",
   "language": "python",
   "name": "python3"
  },
  "language_info": {
   "name": "python",
   "version": "3.9.13"
  }
 },
 "nbformat": 4,
 "nbformat_minor": 2
}
